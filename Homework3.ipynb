{
 "cells": [
  {
   "cell_type": "code",
   "execution_count": 2,
   "metadata": {},
   "outputs": [
    {
     "name": "stdout",
     "output_type": "stream",
     "text": [
      "Please enter your name:Aylin\n",
      "Welcome Aylin\n",
      "Please enter a number between 0 and 99:\n",
      "Please enter a number between 0 and 99:55\n",
      "The number that you guess is large, please enter a smaller number:\n",
      "Please enter a number between 0 and 99:30\n",
      "The number that you guess is small, please enter a larger number:\n",
      "Please enter a number between 0 and 99:45\n",
      "The number that you guess is small, please enter a larger number:\n",
      "Please enter a number between 0 and 99:50\n",
      "The number that you guess is small, please enter a larger number:\n",
      "Please enter a number between 0 and 99:54\n",
      "Congrats\n",
      "The game is over\n"
     ]
    }
   ],
   "source": [
    "import random \n",
    "name = input(\"Please enter your name:\")\n",
    "print(\"Welcome {}\".format(name))\n",
    "print(\"Please enter a number between 0 and 99:\")\n",
    "number=random.randint(1,100)\n",
    "your_guess=int(input(\"Please enter a number between 0 and 99:\"))\n",
    "while True:\n",
    "        if your_guess<number:\n",
    "            print(\"The number that you guess is small, please enter a larger number:\")\n",
    "            your_guess=int(input(\"Please enter a number between 0 and 99:\"))\n",
    "        elif your_guess>number:\n",
    "            print(\"The number that you guess is large, please enter a smaller number:\")\n",
    "            your_guess=int(input(\"Please enter a number between 0 and 99:\"))\n",
    "        else:\n",
    "            print(\"Congrats\")\n",
    "            print(\"The game is over\")\n",
    "            break"
   ]
  },
  {
   "cell_type": "code",
   "execution_count": null,
   "metadata": {},
   "outputs": [],
   "source": []
  }
 ],
 "metadata": {
  "kernelspec": {
   "display_name": "Python 3",
   "language": "python",
   "name": "python3"
  },
  "language_info": {
   "codemirror_mode": {
    "name": "ipython",
    "version": 3
   },
   "file_extension": ".py",
   "mimetype": "text/x-python",
   "name": "python",
   "nbconvert_exporter": "python",
   "pygments_lexer": "ipython3",
   "version": "3.8.5"
  }
 },
 "nbformat": 4,
 "nbformat_minor": 4
}
