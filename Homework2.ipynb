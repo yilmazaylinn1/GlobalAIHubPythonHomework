{
 "cells": [
  {
   "cell_type": "code",
   "execution_count": 15,
   "metadata": {},
   "outputs": [
    {
     "name": "stdout",
     "output_type": "stream",
     "text": [
      "Please enter your Name: Aylin\n",
      "Please enter your Last Name: Yılmaz\n",
      "Please enter your Age: 23\n",
      "Please enter your Birthday Year: 1997\n"
     ]
    }
   ],
   "source": [
    "First_Name=str(input(\"Please enter your Name: \"))\n",
    "Last_Name=str(input(\"Please enter your Last Name: \"))\n",
    "Age=int(input(\"Please enter your Age: \"))\n",
    "Date_of_Birth = int(input(\"Please enter your Birthday Year: \"))\n",
    "Person=[First_Name,Last_Name,Age,Date_of_Birth]"
   ]
  },
  {
   "cell_type": "code",
   "execution_count": 16,
   "metadata": {},
   "outputs": [
    {
     "name": "stdout",
     "output_type": "stream",
     "text": [
      "Aylin\n",
      "Yılmaz\n",
      "23\n",
      "1997\n"
     ]
    }
   ],
   "source": [
    "for i in Person:\n",
    "    print(i)"
   ]
  },
  {
   "cell_type": "code",
   "execution_count": 21,
   "metadata": {},
   "outputs": [
    {
     "name": "stdout",
     "output_type": "stream",
     "text": [
      "You can go out to the street.\n"
     ]
    }
   ],
   "source": [
    "if 0 < Age < 18 :\n",
    "    print(\"You can't go out because it's dangerous.\")\n",
    "elif Age > 18 : \n",
    "    print(\"You can go out to the street.\")\n",
    "else:\n",
    "    print(\"Invalid Age.\")"
   ]
  },
  {
   "cell_type": "code",
   "execution_count": null,
   "metadata": {},
   "outputs": [],
   "source": []
  }
 ],
 "metadata": {
  "kernelspec": {
   "display_name": "Python 3",
   "language": "python",
   "name": "python3"
  },
  "language_info": {
   "codemirror_mode": {
    "name": "ipython",
    "version": 3
   },
   "file_extension": ".py",
   "mimetype": "text/x-python",
   "name": "python",
   "nbconvert_exporter": "python",
   "pygments_lexer": "ipython3",
   "version": "3.8.5"
  }
 },
 "nbformat": 4,
 "nbformat_minor": 4
}
